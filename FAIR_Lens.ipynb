{
  "nbformat": 4,
  "nbformat_minor": 0,
  "metadata": {
    "colab": {
      "provenance": []
    },
    "kernelspec": {
      "name": "python3",
      "display_name": "Python 3"
    },
    "language_info": {
      "name": "python"
    }
  },
  "cells": [
    {
      "cell_type": "code",
      "execution_count": null,
      "metadata": {
        "id": "Iu2X8C3UZ62k"
      },
      "outputs": [],
      "source": [
        "!pip install textstat textblob spacy streamlit openai python-dotenv\n",
        "!python -m textblob.download_corpora\n",
        "!python -m spacy download en_core_web_sm"
      ]
    },
    {
      "cell_type": "code",
      "source": [
        "import os\n",
        "from dotenv import load_dotenv\n",
        "import textstat\n",
        "from textblob import TextBlob\n",
        "import spacy\n",
        "import json\n",
        "\n",
        "load_dotenv()\n",
        "OPENAI_API_KEY = os.getenv(\"OPENAI_API_KEY\")\n",
        "nlp = spacy.load(\"en_core_web_sm\")"
      ],
      "metadata": {
        "id": "Pa6YkOtbaBTw"
      },
      "execution_count": null,
      "outputs": []
    },
    {
      "cell_type": "code",
      "source": [
        "bias_terms = {\n",
        "    \"disability_exclusion\": [\"handicapped\", \"crippled\"],\n",
        "    \"immigration_sensitive\": [\"illegal alien\", \"illegals\"],\n",
        "    \"gendered\": [\"chairman\", \"policeman\"],\n",
        "    \"ageist\": [\"elderly people\", \"old people\"]\n",
        "}"
      ],
      "metadata": {
        "id": "2ZoAleinaDgD"
      },
      "execution_count": null,
      "outputs": []
    },
    {
      "cell_type": "code",
      "source": [
        "def score_readability(text):\n",
        "\n",
        "    grade = textstat.text_standard(text, float_output=True)\n",
        "    if grade <= 6:\n",
        "        return 25\n",
        "    elif grade <= 8:\n",
        "        return 22\n",
        "    elif grade <= 10:\n",
        "        return 18\n",
        "    elif grade <= 12:\n",
        "        return 14\n",
        "    else:\n",
        "        return 8\n",
        "\n",
        "def score_sentiment(text):\n",
        "    blob = TextBlob(text)\n",
        "    polarity = blob.sentiment.polarity\n",
        "    if polarity >= 0.4:\n",
        "        return 15\n",
        "    elif polarity >= 0.1:\n",
        "        return 12\n",
        "    elif polarity >= -0.1:\n",
        "        return 10\n",
        "    else:\n",
        "        return 6\n",
        "\n",
        "def score_bias(text):\n",
        "    text_lower = text.lower()\n",
        "    penalties = 0\n",
        "    matches = []\n",
        "    for category, terms in bias_terms.items():\n",
        "        for t in terms:\n",
        "            if t in text_lower:\n",
        "                penalties += 5\n",
        "                matches.append((category, t))\n",
        "    score = max(25 - penalties, 5)\n",
        "    return score, matches\n",
        "\n",
        "def score_accessibility(text):\n",
        "\n",
        "    sentences = list(nlp(text).sents)\n",
        "    avg_len = sum(len(s.text.split()) for s in sentences) / max(len(sentences), 1)\n",
        "    if avg_len <= 16:\n",
        "        return 20\n",
        "    elif avg_len <= 22:\n",
        "        return 16\n",
        "    elif avg_len <= 28:\n",
        "        return 12\n",
        "    else:\n",
        "        return 8\n",
        "\n",
        "def score_transparency(text):\n",
        "    indicators = [\"according to\", \"source:\", \"data from\", \"you should\", \"next steps\", \"to apply\"]\n",
        "    count = sum(1 for i in indicators if i in text.lower())\n",
        "    if count >= 3:\n",
        "        return 15\n",
        "    elif count == 2:\n",
        "        return 12\n",
        "    elif count == 1:\n",
        "        return 8\n",
        "    else:\n",
        "        return 5"
      ],
      "metadata": {
        "id": "1wD0BL7SaFNs"
      },
      "execution_count": null,
      "outputs": []
    },
    {
      "cell_type": "code",
      "source": [
        "def evaluate_text(text):\n",
        "    r = score_readability(text)\n",
        "    s = score_sentiment(text)\n",
        "    b, matches = score_bias(text)\n",
        "    a = score_accessibility(text)\n",
        "    t = score_transparency(text)\n",
        "    total = r + s + b + a + t\n",
        "    report = {\n",
        "        \"readability_score\": r,\n",
        "        \"sentiment_score\": s,\n",
        "        \"bias_score\": b,\n",
        "        \"accessibility_score\": a,\n",
        "        \"transparency_score\": t,\n",
        "        \"total_score\": total,\n",
        "        \"flagged_terms\": matches\n",
        "    }\n",
        "    return report\n",
        "\n",
        "sample_text = \"\"\"\n",
        "The agency will process your request. To apply, visit the official website. Seniors, immigrants and people with disabilities can request assistance.\n",
        "\"\"\"\n",
        "report = evaluate_text(sample_text)\n",
        "report"
      ],
      "metadata": {
        "id": "c7gnOt7saLSP"
      },
      "execution_count": null,
      "outputs": []
    },
    {
      "cell_type": "code",
      "source": [
        "from openai import OpenAI\n",
        "client = OpenAI(api_key=OPENAI_API_KEY)\n",
        "\n",
        "def improve_text_for_civic_use(text):\n",
        "    prompt = f\"\"\"\n",
        "    You are an AI assistant helping a state government team write accessible, bias-free responses for the public.\n",
        "    Rewrite the following text in plain English, avoid exclusionary or outdated terms, and keep it friendly and actionable.\n",
        "\n",
        "    Text:\n",
        "    {text}\n",
        "    \"\"\"\n",
        "    resp = client.chat.completions.create(\n",
        "        model=\"gpt-4o\",\n",
        "        messages=[{\"role\":\"user\", \"content\": prompt}],\n",
        "        temperature=0.3\n",
        "    )\n",
        "    return resp.choices[0].message.content.strip()"
      ],
      "metadata": {
        "id": "6hm8CAfDaOzO"
      },
      "execution_count": null,
      "outputs": []
    },
    {
      "cell_type": "code",
      "source": [
        "import streamlit as st\n",
        "\n",
        "st.title(\"FAIR-Lens – Responsible AI Output Auditor\")\n",
        "\n",
        "user_text = st.text_area(\"Paste AI-generated text here\", height=200)\n",
        "\n",
        "if st.button(\"Evaluate\"):\n",
        "    report = evaluate_text(user_text)\n",
        "    st.subheader(\"Audit Report\")\n",
        "    st.json(report)\n",
        "    if report[\"total_score\"] < 70:\n",
        "        st.warning(\"Score below 70 – consider rewriting for accessibility or bias.\")\n",
        "        if OPENAI_API_KEY:\n",
        "            improved = improve_text_for_civic_use(user_text)\n",
        "            st.subheader(\"Suggested Rewrite\")\n",
        "            st.write(improved)"
      ],
      "metadata": {
        "id": "WirsBYRvaP2d"
      },
      "execution_count": null,
      "outputs": []
    }
  ]
}